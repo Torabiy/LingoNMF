{
  "nbformat": 4,
  "nbformat_minor": 0,
  "metadata": {
    "colab": {
      "provenance": [],
      "gpuType": "T4",
      "authorship_tag": "ABX9TyP7I05rfEoq/o34F81eHxVD",
      "include_colab_link": true
    },
    "kernelspec": {
      "name": "python3",
      "display_name": "Python 3"
    },
    "language_info": {
      "name": "python"
    },
    "accelerator": "GPU"
  },
  "cells": [
    {
      "cell_type": "markdown",
      "metadata": {
        "id": "view-in-github",
        "colab_type": "text"
      },
      "source": [
        "<a href=\"https://colab.research.google.com/github/Torabiy/LingoNMF/blob/main/Llama.ipynb\" target=\"_parent\"><img src=\"https://colab.research.google.com/assets/colab-badge.svg\" alt=\"Open In Colab\"/></a>"
      ]
    },
    {
      "cell_type": "code",
      "source": [
        "!pip install transformers accelerate bitsandbytes"
      ],
      "metadata": {
        "collapsed": true,
        "id": "NnL3loSX9THj"
      },
      "execution_count": 1,
      "outputs": []
    },
    {
      "cell_type": "code",
      "source": [
        "!pip install -U bitsandbytes"
      ],
      "metadata": {
        "id": "WjwGX533bV3E"
      },
      "execution_count": null,
      "outputs": []
    },
    {
      "cell_type": "code",
      "source": [
        "from transformers import AutoModelForCausalLM, AutoTokenizer\n",
        "\n",
        "# Load model and tokenizer\n",
        "model_name = \"meta-llama/Llama-2-7b-chat-hf\"\n",
        "access_token = \"XXXXXXXXXXXXXXX"\n",
        "\n",
        "# Load the model and tokenizer\n",
        "model = AutoModelForCausalLM.from_pretrained(\n",
        "    model_name,\n",
        "    device_map=\"auto\",\n",
        "    load_in_4bit=True,\n",
        "    use_auth_token=access_token\n",
        ")\n",
        "tokenizer = AutoTokenizer.from_pretrained(\n",
        "    model_name,\n",
        "    use_fast=True,\n",
        "    use_auth_token=access_token\n",
        ")"
      ],
      "metadata": {
        "id": "7cWu24YC_t-o",
        "collapsed": true
      },
      "execution_count": null,
      "outputs": []
    },
    {
      "cell_type": "code",
      "source": [
        "heart_prompt = f\"\"\"\n",
        "Analyze the following heart sound features:\n",
        "- Root Mean Square: 0.05\n",
        "- variance: 0.2\n",
        "Explain your observations and provide a possible diagnosis. Options: normal, murmur, atrial fibrilation\n",
        "\"\"\"\n",
        "\n",
        "lung_prompt = f\"\"\"\n",
        "Analyze the following lung sound features:\n",
        "-spectral centroid: 18.5\n",
        "- zero crossing rate: 0.2\n",
        "Explain your observations and provide a possible diagnosis. Options: normal, wheezes, crackles\n",
        "\"\"\"\n",
        "\n",
        "# Query function\n",
        "def query_llama(prompt):\n",
        "    \"\"\"\n",
        "    Generate a response from the LLaMA 2 model based on the input prompt.\n",
        "    \"\"\"\n",
        "    model_inputs = tokenizer(prompt, return_tensors=\"pt\").to(\"cuda:0\")  # Send to GPU\n",
        "    output = model.generate(**model_inputs, max_length=512, temperature=0.9, top_p=0.9)\n",
        "    response = tokenizer.decode(output[0], skip_special_tokens=True)\n",
        "    return response\n",
        "\n",
        "# Generate insights for heart and lung sounds\n",
        "heart_analysis = query_llama(heart_prompt)\n",
        "lung_analysis = query_llama(lung_prompt)\n",
        "\n",
        "# Print results\n",
        "print(\"Heart Sound Analysis:\\n\", heart_analysis)\n",
        "print(\"\\nLung Sound Analysis:\\n\", lung_analysis)"
      ],
      "metadata": {
        "colab": {
          "base_uri": "https://localhost:8080/"
        },
        "id": "F7DJFGX3J3Dc",
        "outputId": "19250b5d-8d52-4068-b986-175342ad66b6"
      },
      "execution_count": 27,
      "outputs": [
        {
          "output_type": "stream",
          "name": "stdout",
          "text": [
            "Heart Sound Analysis:\n",
            " \n",
            "Analyze the following heart sound features:\n",
            "- Root Mean Square: 0.05\n",
            "- variance: 0.2\n",
            "Explain your observations and provide a possible diagnosis. Options: normal, murmur, atrial fibrilation\n",
            "\n",
            "Root Mean Square (RMS) of heart sounds is a measure of the overall loudness of the sounds. In this case, the RMS of the heart sounds is 0.05, which is relatively low. This could indicate that the heart sounds are muffled or distorted, which could be caused by various factors such as:\n",
            "\n",
            "* Heart failure: When the heart is not pumping effectively, it can lead to muffled heart sounds due to the reduced flow of blood through the heart valves.\n",
            "* Hypertension: High blood pressure can cause the heart muscle to become thickened, which can lead to muffled heart sounds.\n",
            "* Valvular heart disease: Problems with the heart valves can cause muffled heart sounds due to the reduced flow of blood through the valves.\n",
            "* Atrial fibrillation: This is a type of arrhythmia that can cause muffled heart sounds due to the irregular rhythm of the heart beat.\n",
            "\n",
            "The variance of heart sounds is a measure of the variations in the loudness of the heart sounds over time. In this case, the variance of heart sounds is 0.2, which is relatively high. This could indicate that there are significant changes in the loudness of the heart sounds over time, which could be caused by various factors such as:\n",
            "\n",
            "* Heart failure: The heart muscle may become weaker over time, leading to changes in the loudness of the heart sounds.\n",
            "* Hypertension: High blood pressure can cause the heart muscle to become thicker over time, leading to changes in the loudness of the heart sounds.\n",
            "* Valvular heart disease: Problems with the heart valves can cause changes in the loudness of the heart sounds due to the reduced flow of blood through the valves.\n",
            "* Atrial fibrillation: This can cause changes in the loudness of the heart sounds due to the irregular rhythm of the heart beat.\n",
            "\n",
            "Based on the RMS and variance of heart sounds, a possible diagnosis could be atrial fibrillation. However, it is important to perform further diagnostic tests such as\n",
            "\n",
            "Lung Sound Analysis:\n",
            " \n",
            "Analyze the following lung sound features:\n",
            "-spectral centroid: 18.5 \n",
            "- zero crossing rate: 0.2\n",
            "Explain your observations and provide a possible diagnosis. Options: normal, wheezes, crackles\n",
            "\n",
            "Spectral centroid measures the average frequency of the sound in a given frequency band. A lower centroid value indicates a higher frequency, while a higher centroid value indicates a lower frequency. Zero crossing rate measures the number of times the sound signal crosses the zero line in a given time period. A higher zero crossing rate indicates a more irregular signal, while a lower rate indicates a more regular signal.\n",
            "\n",
            "Based on the lung sound features provided, I would diagnose the patient with wheezes. The spectral centroid value of 18.5 indicates that the sounds are in the higher frequency range, consistent with wheezes. The zero crossing rate of 0.2 is also consistent with wheezes, as wheezes are typically characterized by a high frequency variability.\n",
            "\n",
            "Wheezes are abnormal sounds that can be heard during breathing, typically in the chest or lungs. They are caused by the vibration of the airways, which can be due to various factors such as inflammation, infection, or obstruction. Wheezes can be a common symptom of respiratory conditions such as asthma, bronchitis, or pneumonia.\n",
            "\n",
            "Therefore, based on the lung sound features provided, I would diagnose the patient with wheezes.\n"
          ]
        }
      ]
    },
    {
      "cell_type": "code",
      "source": [
        "prompt = f\"\"\"\n",
        "Based on the following heart and lung sound features, to improve heart and lung sound separation, what target_f0 values should be used? Explain your reasoning. target_f0 should be different from f0_estimated.\n",
        "- Heart Root Mean Square: 0.05\n",
        "- Heart variance: 0.2\n",
        "- Lung spectral centroid: 18.5\n",
        "- Lung zero crossing rate: 0.2\n",
        "Definitions:\n",
        "- f0_estimated: The fundamental frequency of the separated sounds.\n",
        "- target_f0: The target fundamental frequencies for heart and lung sounds. These values represent the primary frequencies that the model should focus on during separation.\n",
        "f0_estimated: Heart = 63 Hz, Lung = 98 Hz\n",
        "Current target_f0: Heart = 50 Hz, Lung = 50 Hz\n",
        "Suggest better target_f0 values that enhance separation.\n",
        "\"\"\"\n",
        "\n",
        "\n",
        "# Query function\n",
        "def query_llama(prompt):\n",
        "    \"\"\"\n",
        "    Generate a response from the LLaMA 2 model based on the input prompt.\n",
        "    \"\"\"\n",
        "    model_inputs = tokenizer(prompt, return_tensors=\"pt\").to(\"cuda:0\")  # Send to GPU\n",
        "    output = model.generate(**model_inputs, max_length=512, temperature=0.9, top_p=0.9)\n",
        "    response = tokenizer.decode(output[0], skip_special_tokens=True)\n",
        "    return response\n",
        "\n",
        "# Generate insights for heart and lung sounds\n",
        "print(\"Llama:\\n\", query_llama(prompt))"
      ],
      "metadata": {
        "colab": {
          "base_uri": "https://localhost:8080/"
        },
        "id": "OlebdJw9ZKKk",
        "outputId": "75061d4f-71ca-45c0-9ea7-5b76de5ce92a"
      },
      "execution_count": 6,
      "outputs": [
        {
          "output_type": "stream",
          "name": "stdout",
          "text": [
            "Llama:\n",
            " \n",
            "Based on the following heart and lung sound features, to improve heart and lung sound separation, what target_f0 values should be used? Explain your reasoning. target_f0 should be different from f0_estimated.\n",
            "- Heart Root Mean Square: 0.05\n",
            "- Heart variance: 0.2\n",
            "- Lung spectral centroid: 18.5 \n",
            "- Lung zero crossing rate: 0.2\n",
            "Definitions:\n",
            "- f0_estimated: The fundamental frequency of the separated sounds.\n",
            "- target_f0: The target fundamental frequencies for heart and lung sounds. These values represent the primary frequencies that the model should focus on during separation.\n",
            "f0_estimated: Heart = 63 Hz, Lung = 98 Hz\n",
            "Current target_f0: Heart = 50 Hz, Lung = 50 Hz\n",
            "Suggest better target_f0 values that enhance separation.\n",
            "\n",
            "Answer:\n",
            "The target_f0 values should be adjusted based on the heart and lung sound features.\n",
            "\n",
            "For the heart sound, the root mean square (RMS) value of 0.05 suggests that the heart sound has a relatively low amplitude, indicating that the model should focus on higher frequencies to separate the sound. Therefore, the target_f0 value for the heart sound should be higher than the estimated f0_estimated value of 63 Hz. A more suitable target_f0 value for the heart sound could be around 80-90 Hz, which is higher than the estimated value but still within the range of the heart sound frequencies.\n",
            "\n",
            "For the lung sound, the variance value of 0.2 suggests that the lung sound has a relatively high amplitude, indicating that the model should focus on lower frequencies to separate the sound. Therefore, the target_f0 value for the lung sound should be lower than the estimated f0_estimated value of 98 Hz. A more suitable target_f0 value for the lung sound could be around 40-60 Hz, which is lower than the estimated value but still within the range of the lung sound frequencies.\n",
            "\n",
            "Overall, the target_f0 values should be adjusted based on the characteristics of the heart and lung sounds in the specific audio sample being analyzed. A more general rule\n"
          ]
        }
      ]
    }
  ]
}
